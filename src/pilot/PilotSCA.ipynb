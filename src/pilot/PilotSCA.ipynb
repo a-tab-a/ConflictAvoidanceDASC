{
 "cells": [
  {
   "cell_type": "markdown",
   "metadata": {},
   "source": [
    "# Pilot response model\n",
    "\n",
    "The pilot response model aims to better capture unmanned aircraft response to advisories (either piloted by human or autonomously). When responding, the pilot executes the advisory for the total length of the period between decisions $T$. In the model, the advisory response in the current time step of $T$ is determined stochastically based on the new advisory via a Bernoulli process. As such, the delay until response follows a geometric distribution, and for some mean time until response $k$, the response probability at each step in the process is $T / (T + k)$.\n",
    "\n",
    "Specifically,\n",
    "* the pilot always response to a clear of conflict status \"advisory\"\n",
    "* once the pilot responds, it will continue to respond for the duration of the advisory\n",
    "* the average response delay for initial advisories is $5$ seconds (from ICAO recommended practices for responding to resolution advisories [1])\n",
    "* when the pilot is not responding, the aircraft follows a white noise model.\n",
    "\n",
    "[1] International Civil Aviation Organization, “Surveillance, radar and collision avoidance,” in International Standards and Recommended Practices, 4th, vol. IV, annex 10, 2007."
   ]
  },
  {
   "cell_type": "markdown",
   "metadata": {},
   "source": [
    "## Load modules"
   ]
  },
  {
   "cell_type": "code",
   "execution_count": null,
   "metadata": {
    "collapsed": false,
    "scrolled": true
   },
   "outputs": [],
   "source": [
    "push!(LOAD_PATH, \"../dvi\")\n",
    "\n",
    "addprocs(int(CPU_CORES / 2))\n",
    "\n",
    "using DiscreteValueIteration, GridInterpolations, PilotSCAs\n",
    "\n",
    "mdp = SCA()"
   ]
  },
  {
   "cell_type": "markdown",
   "metadata": {},
   "source": [
    "## Check size of MDP"
   ]
  },
  {
   "cell_type": "code",
   "execution_count": null,
   "metadata": {
    "collapsed": false,
    "scrolled": true
   },
   "outputs": [],
   "source": [
    "function getBytes(x)\n",
    "   total = 0;\n",
    "   fieldNames = typeof(x).names;\n",
    "   if fieldNames == ()\n",
    "      return sizeof(x);\n",
    "   else\n",
    "     for fieldName in fieldNames\n",
    "        total += getBytes(getfield(x,fieldName));\n",
    "     end\n",
    "     return total;\n",
    "   end\n",
    "end\n",
    "\n",
    "println(\"mdp of type \", typeof(mdp), \" takes up \", getBytes(mdp) / 1000.0, \" kB\")"
   ]
  },
  {
   "cell_type": "markdown",
   "metadata": {},
   "source": [
    "## Informal validation of state and action iterators and transition function"
   ]
  },
  {
   "cell_type": "code",
   "execution_count": null,
   "metadata": {
    "collapsed": false,
    "scrolled": true
   },
   "outputs": [],
   "source": [
    "nextStateIndices, probs = nextStates(mdp, 1, 15)\n",
    "println(\"next state indices:\\n\", nextStateIndices, \"\\n\")\n",
    "println(\"probabilities:\\n\", probs, \"\\n\")\n",
    "println(\"probabilities sum to \", sum(probs))"
   ]
  },
  {
   "cell_type": "markdown",
   "metadata": {},
   "source": [
    "## Parallel solution"
   ]
  },
  {
   "cell_type": "code",
   "execution_count": null,
   "metadata": {
    "collapsed": false,
    "scrolled": true
   },
   "outputs": [],
   "source": [
    "numProcs = int(CPU_CORES / 2)\n",
    "solver = ParallelSolver(\n",
    "    numProcs,\n",
    "    maxIterations = 1000,\n",
    "    tolerance = 1e-2,\n",
    "    gaussSiedel = true,\n",
    "    includeV = true,\n",
    "    includeQ = true,\n",
    "    includeA = true)"
   ]
  },
  {
   "cell_type": "code",
   "execution_count": null,
   "metadata": {
    "collapsed": false,
    "scrolled": true
   },
   "outputs": [],
   "source": [
    "policy = solve(solver, mdp, verbose = true)\n",
    "println(\"\")"
   ]
  },
  {
   "cell_type": "code",
   "execution_count": null,
   "metadata": {
    "collapsed": false,
    "scrolled": true
   },
   "outputs": [],
   "source": [
    "function sharray2array(sharray::SharedArray{Float64, 2})\n",
    "    result = zeros(sharray.dims)\n",
    "    for i = 1:sharray.dims[1]\n",
    "        for j = 1:sharray.dims[2]\n",
    "            result[i, j] = sharray[i, j]\n",
    "        end # for j\n",
    "    end # for i\n",
    "    return result\n",
    "end # function sharray2array"
   ]
  },
  {
   "cell_type": "code",
   "execution_count": null,
   "metadata": {
    "collapsed": false
   },
   "outputs": [],
   "source": [
    "using JLD\n",
    "\n",
    "solQ = sharray2array(policy.Q')\n",
    "save(\"../../data/pilot-alpha.jld\", \"solQ\", solQ)"
   ]
  },
  {
   "cell_type": "markdown",
   "metadata": {},
   "source": [
    "## Check against reference solution by visual inspection"
   ]
  },
  {
   "cell_type": "code",
   "execution_count": null,
   "metadata": {
    "collapsed": false,
    "scrolled": true
   },
   "outputs": [],
   "source": [
    "using PilotSCAViz\n",
    "\n",
    "solQ = load(\"../../data/pilot-alpha.jld\", \"solQ\")\n",
    "println(\"\")"
   ]
  },
  {
   "cell_type": "markdown",
   "metadata": {},
   "source": [
    "### Parallel solver policy plot"
   ]
  },
  {
   "cell_type": "code",
   "execution_count": null,
   "metadata": {
    "collapsed": false,
    "scrolled": true
   },
   "outputs": [],
   "source": [
    "viz_pairwise_policy(d, solQ)"
   ]
  },
  {
   "cell_type": "code",
   "execution_count": null,
   "metadata": {
    "collapsed": true
   },
   "outputs": [],
   "source": []
  }
 ],
 "metadata": {
  "kernelspec": {
   "display_name": "Julia 0.3.11",
   "language": "julia",
   "name": "julia-0.3"
  },
  "language_info": {
   "name": "julia",
   "version": "0.3.11"
  }
 },
 "nbformat": 4,
 "nbformat_minor": 0
}
