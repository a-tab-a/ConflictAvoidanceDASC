{
 "cells": [
  {
   "cell_type": "markdown",
   "metadata": {},
   "source": [
    "## Load modules"
   ]
  },
  {
   "cell_type": "code",
   "execution_count": 1,
   "metadata": {
    "collapsed": false,
    "scrolled": true
   },
   "outputs": [
    {
     "data": {
      "text/plain": [
       "SCA(5446,36,StateIterator([-2000.0,-1600.0,-1200.0,-800.0,-400.0,0.0,400.0,800.0,1200.0,1600.0,2000.0],[-2000.0,-1600.0,-1200.0,-800.0,-400.0,0.0,400.0,800.0,1200.0,1600.0,2000.0],[0.0,1.5708,3.14159,4.71239,6.28319],[10.0,15.0,20.0],[10.0,15.0,20.0],1,1,1,1,1,5446),ActionIterator([:right20,:right10,:straight,:left10,:left20,:clearOfConflict],1,1,36),RectangleGrid with 5445 points)"
      ]
     },
     "execution_count": 1,
     "metadata": {},
     "output_type": "execute_result"
    }
   ],
   "source": [
    "push!(LOAD_PATH, \"../dvi\")\n",
    "\n",
    "addprocs(int(CPU_CORES / 2))\n",
    "\n",
    "using DiscreteValueIteration\n",
    "using PilotSCAs, PilotSCAIterators, PilotSCAConst\n",
    "using GridInterpolations\n",
    "\n",
    "mdp = SCA()"
   ]
  },
  {
   "cell_type": "markdown",
   "metadata": {},
   "source": [
    "## Check size of MDP"
   ]
  },
  {
   "cell_type": "code",
   "execution_count": 2,
   "metadata": {
    "collapsed": false,
    "scrolled": true
   },
   "outputs": [
    {
     "name": "stdout",
     "output_type": "stream",
     "text": [
      "mdp of type SCA takes up 1.768 kB\n"
     ]
    }
   ],
   "source": [
    "function getBytes(x)\n",
    "   total = 0;\n",
    "   fieldNames = typeof(x).names;\n",
    "   if fieldNames == ()\n",
    "      return sizeof(x);\n",
    "   else\n",
    "     for fieldName in fieldNames\n",
    "        total += getBytes(getfield(x,fieldName));\n",
    "     end\n",
    "     return total;\n",
    "   end\n",
    "end\n",
    "\n",
    "println(\"mdp of type \", typeof(mdp), \" takes up \", getBytes(mdp) / 1000.0, \" kB\")"
   ]
  },
  {
   "cell_type": "markdown",
   "metadata": {},
   "source": [
    "## Informal validation of state and action iterators and transition function"
   ]
  },
  {
   "cell_type": "code",
   "execution_count": 3,
   "metadata": {
    "collapsed": false,
    "scrolled": false
   },
   "outputs": [
    {
     "name": "stdout",
     "output_type": "stream",
     "text": [
      "action #1: Action = Action(:right20,:right20)\n",
      "action #36: Action = Action(:clearOfConflict,:clearOfConflict)\n",
      "nActions = 36\n",
      "actionCount = 36\n",
      "\n",
      "state #1: State = State(-2000.0,-2000.0,0.0,10.0,10.0,false)\n",
      "state #5446: State = State(-2000.0,-2000.0,0.0,10.0,10.0,true)\n",
      "nStates = 5446\n",
      "stateCount = 5446\n"
     ]
    }
   ],
   "source": [
    "testActions = ActionIterator(Actions)\n",
    "actionCount = 0\n",
    "for action in testActions\n",
    "    actionCount += 1\n",
    "    if actionCount == 1 || actionCount == NActions\n",
    "        println(\"action #\", actionCount, \": \", typeof(action), \" = \", action)\n",
    "    end # if\n",
    "end # for action\n",
    "println(\"nActions = \", NActions)\n",
    "println(\"actionCount = \", actionCount, \"\\n\")\n",
    "\n",
    "testStates = StateIterator(Xs, Ys, Bearings, Speeds, Speeds)\n",
    "stateCount = 0\n",
    "for state in testStates\n",
    "    stateCount += 1\n",
    "    if stateCount == 1 || stateCount == NStates\n",
    "        println(\"state #\", stateCount, \": \", typeof(state), \" = \", state)\n",
    "    end # if\n",
    "end # for state\n",
    "println(\"nStates = \", NStates)\n",
    "println(\"stateCount = \", stateCount)"
   ]
  },
  {
   "cell_type": "code",
   "execution_count": 4,
   "metadata": {
    "collapsed": false,
    "scrolled": true
   },
   "outputs": [
    {
     "name": "stdout",
     "output_type": "stream",
     "text": [
      "next state indices:\n",
      "[1,1,2,5446,5446,1,2,1816,1817,5446,5446,5446,5446]\n",
      "\n",
      "probabilities:\n",
      "[0.3333333333333333,0.08125,0.0020833333333333355,0.08333333333333334,0.08333333333333334,0.04875,0.0012500000000000013,0.03250000000000001,0.0008333333333333341,0.08333333333333334,0.08333333333333334,0.08333333333333334,0.08333333333333334]\n",
      "\n",
      "probabilities sum to 1.0\n"
     ]
    }
   ],
   "source": [
    "nextStateIndices, probs = nextStates(mdp, 1, 15)\n",
    "println(\"next state indices:\\n\", nextStateIndices, \"\\n\")\n",
    "println(\"probabilities:\\n\", probs, \"\\n\")\n",
    "println(\"probabilities sum to \", sum(probs))"
   ]
  },
  {
   "cell_type": "markdown",
   "metadata": {},
   "source": [
    "## Parallel solution"
   ]
  },
  {
   "cell_type": "code",
   "execution_count": 5,
   "metadata": {
    "collapsed": false,
    "scrolled": true
   },
   "outputs": [
    {
     "data": {
      "text/plain": [
       "ParallelSolver(2,None[],1000,0.01,true,true,true,true)"
      ]
     },
     "execution_count": 5,
     "metadata": {},
     "output_type": "execute_result"
    }
   ],
   "source": [
    "numProcs = int(CPU_CORES / 2)\n",
    "solver = ParallelSolver(\n",
    "    numProcs,\n",
    "    maxIterations = 1000,\n",
    "    tolerance = 1e-2,\n",
    "    gaussSiedel = true,\n",
    "    includeV = true,\n",
    "    includeQ = true,\n",
    "    includeA = true)"
   ]
  },
  {
   "cell_type": "code",
   "execution_count": null,
   "metadata": {
    "collapsed": false,
    "scrolled": true
   },
   "outputs": [
    {
     "name": "stderr",
     "output_type": "stream",
     "text": [
      "Warning: imported binding for reward overwritten in module PilotSCAs\n"
     ]
    },
    {
     "name": "stdout",
     "output_type": "stream",
     "text": [
      "Iter 1: runtime = 1.414e+01, net runtime = 1.414e+01\n",
      "Iter 2: runtime = 1.431e+01, net runtime = 2.845e+01\n",
      "Iter 3: runtime = 1.239e+01, net runtime = 4.084e+01\n",
      "Iter 4: runtime = 1.302e+01, net runtime = 5.386e+01\n",
      "Iter 5"
     ]
    }
   ],
   "source": [
    "policy = solve(solver, mdp, verbose = true)\n",
    "println(\"\")"
   ]
  },
  {
   "cell_type": "code",
   "execution_count": null,
   "metadata": {
    "collapsed": false,
    "scrolled": true
   },
   "outputs": [],
   "source": [
    "function sharray2array(sharray::SharedArray{Float64, 2})\n",
    "    result = zeros(sharray.dims)\n",
    "    for i = 1:sharray.dims[1]\n",
    "        for j = 1:sharray.dims[2]\n",
    "            result[i, j] = sharray[i, j]\n",
    "        end # for j\n",
    "    end # for i\n",
    "    return result\n",
    "end # function sharray2array"
   ]
  },
  {
   "cell_type": "code",
   "execution_count": null,
   "metadata": {
    "collapsed": false
   },
   "outputs": [],
   "source": [
    "solQ = sharray2array(policy.Q')\n",
    "save(\"../../data/pilot-alpha.jld\", \"solQ\", solQ)"
   ]
  },
  {
   "cell_type": "markdown",
   "metadata": {},
   "source": [
    "## Check against reference solution by visual inspection"
   ]
  },
  {
   "cell_type": "code",
   "execution_count": null,
   "metadata": {
    "collapsed": false,
    "scrolled": true
   },
   "outputs": [],
   "source": [
    "push!(LOAD_PATH, \"../src/\")\n",
    "using Pairwise, Multiagent, JLD\n",
    "\n",
    "d = get_pomdp()\n",
    "refQ = load(\"../../data/alpha.jld\", \"alpha\")\n",
    "solQ = load(\"../../data/pilot-alpha.jld\", \"solQ\")\n",
    "println(\"\")"
   ]
  },
  {
   "cell_type": "markdown",
   "metadata": {},
   "source": [
    "### Reference policy plot"
   ]
  },
  {
   "cell_type": "code",
   "execution_count": null,
   "metadata": {
    "collapsed": false,
    "scrolled": true
   },
   "outputs": [],
   "source": [
    "viz_pairwise_policy(d, refQ)"
   ]
  },
  {
   "cell_type": "markdown",
   "metadata": {},
   "source": [
    "### Parallel solver policy plot"
   ]
  },
  {
   "cell_type": "code",
   "execution_count": null,
   "metadata": {
    "collapsed": false,
    "scrolled": true
   },
   "outputs": [],
   "source": [
    "viz_pairwise_policy(d, solQ)"
   ]
  },
  {
   "cell_type": "code",
   "execution_count": null,
   "metadata": {
    "collapsed": true
   },
   "outputs": [],
   "source": []
  }
 ],
 "metadata": {
  "kernelspec": {
   "display_name": "Julia 0.3.11",
   "language": "julia",
   "name": "julia-0.3"
  },
  "language_info": {
   "name": "julia",
   "version": "0.3.11"
  }
 },
 "nbformat": 4,
 "nbformat_minor": 0
}
