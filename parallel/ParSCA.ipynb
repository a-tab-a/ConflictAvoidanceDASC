{
 "cells": [
  {
   "cell_type": "markdown",
   "metadata": {},
   "source": [
    "## Load modules"
   ]
  },
  {
   "cell_type": "code",
   "execution_count": null,
   "metadata": {
    "collapsed": false,
    "scrolled": true
   },
   "outputs": [],
   "source": [
    "push!(LOAD_PATH, \"./DiscreteValueIteration\")\n",
    "\n",
    "addprocs(int(CPU_CORES / 2))\n",
    "\n",
    "using DiscreteValueIteration\n",
    "using SCAs, SCAIterators, SCAConst\n",
    "using GridInterpolations\n",
    "\n",
    "mdp = SCA()"
   ]
  },
  {
   "cell_type": "markdown",
   "metadata": {},
   "source": [
    "## Check size of MDP"
   ]
  },
  {
   "cell_type": "code",
   "execution_count": null,
   "metadata": {
    "collapsed": false,
    "scrolled": true
   },
   "outputs": [],
   "source": [
    "function getBytes(x)\n",
    "   total = 0;\n",
    "   fieldNames = typeof(x).names;\n",
    "   if fieldNames == ()\n",
    "      return sizeof(x);\n",
    "   else\n",
    "     for fieldName in fieldNames\n",
    "        total += getBytes(getfield(x,fieldName));\n",
    "     end\n",
    "     return total;\n",
    "   end\n",
    "end\n",
    "\n",
    "println(\"mdp of type \", typeof(mdp), \" takes up \", getBytes(mdp) / 1000.0, \" kB\")"
   ]
  },
  {
   "cell_type": "markdown",
   "metadata": {},
   "source": [
    "## Informal validation of state and action iterators and transition function"
   ]
  },
  {
   "cell_type": "code",
   "execution_count": null,
   "metadata": {
    "collapsed": false,
    "scrolled": false
   },
   "outputs": [],
   "source": [
    "testActions = ActionIterator(Actions)\n",
    "actionCount = 0\n",
    "for action in testActions\n",
    "    actionCount += 1\n",
    "    if actionCount == 1 || actionCount == NActions\n",
    "        println(\"action #\", actionCount, \": \", typeof(action), \" = \", action)\n",
    "    end # if\n",
    "end # for action\n",
    "println(\"nActions = \", NActions)\n",
    "println(\"actionCount = \", actionCount, \"\\n\")\n",
    "\n",
    "testStates = StateIterator(Xs, Ys, Bearings, Speeds, Speeds)\n",
    "stateCount = 0\n",
    "for state in testStates\n",
    "    stateCount += 1\n",
    "    if stateCount == 1 || stateCount == NStates\n",
    "        println(\"state #\", stateCount, \": \", typeof(state), \" = \", state)\n",
    "    end # if\n",
    "end # for state\n",
    "println(\"nStates = \", NStates)\n",
    "println(\"stateCount = \", stateCount)"
   ]
  },
  {
   "cell_type": "code",
   "execution_count": null,
   "metadata": {
    "collapsed": false,
    "scrolled": true
   },
   "outputs": [],
   "source": [
    "nextStateIndices, probs = nextStates(mdp, 1, 15)\n",
    "println(\"next state indices:\\n\", nextStateIndices, \"\\n\")\n",
    "println(\"probabilities:\\n\", probs, \"\\n\")\n",
    "println(\"probabilities sum to \", sum(probs))"
   ]
  },
  {
   "cell_type": "markdown",
   "metadata": {},
   "source": [
    "## Parallel solution"
   ]
  },
  {
   "cell_type": "code",
   "execution_count": null,
   "metadata": {
    "collapsed": false,
    "scrolled": true
   },
   "outputs": [],
   "source": [
    "numProcs = int(CPU_CORES / 2)\n",
    "solver = ParallelSolver(\n",
    "    numProcs,\n",
    "    maxIterations = 1000,\n",
    "    tolerance = 1e-6,\n",
    "    gaussSiedel = false,\n",
    "    includeV = true,\n",
    "    includeQ = true,\n",
    "    includeA = true)"
   ]
  },
  {
   "cell_type": "code",
   "execution_count": null,
   "metadata": {
    "collapsed": false,
    "scrolled": true
   },
   "outputs": [],
   "source": [
    "policy = solve(solver, mdp, verbose = true)\n",
    "println(\"\")"
   ]
  },
  {
   "cell_type": "code",
   "execution_count": null,
   "metadata": {
    "collapsed": false,
    "scrolled": true
   },
   "outputs": [],
   "source": [
    "function sharray2array(sharray::SharedArray{Float64, 2})\n",
    "    result = zeros(solQ.dims)\n",
    "    for i = 1:solQ.dims[1]\n",
    "        for j = 1:solQ.dims[2]\n",
    "            result[i, j] = sharray[i, j]\n",
    "        end # for j\n",
    "    end # for i\n",
    "    return result\n",
    "end # function sharray2array"
   ]
  },
  {
   "cell_type": "code",
   "execution_count": null,
   "metadata": {
    "collapsed": false
   },
   "outputs": [],
   "source": [
    "solQ = sharray2array(policy.Q')\n",
    "save(\"../data/par-alpha.jld\", \"solQ\", solQ)"
   ]
  },
  {
   "cell_type": "markdown",
   "metadata": {},
   "source": [
    "## Check against reference solution by visual inspection"
   ]
  },
  {
   "cell_type": "code",
   "execution_count": null,
   "metadata": {
    "collapsed": false,
    "scrolled": true
   },
   "outputs": [],
   "source": [
    "push!(LOAD_PATH, \"../src/\")\n",
    "using Pairwise, Multiagent, JLD\n",
    "\n",
    "d = get_pomdp()\n",
    "refQ = load(\"../data/alpha.jld\", \"alpha\")\n",
    "solQ = load(\"../data/par-alpha.jld\", \"solQ\")"
   ]
  },
  {
   "cell_type": "markdown",
   "metadata": {},
   "source": [
    "### Reference policy plot"
   ]
  },
  {
   "cell_type": "code",
   "execution_count": null,
   "metadata": {
    "collapsed": false,
    "scrolled": true
   },
   "outputs": [],
   "source": [
    "viz_pairwise_policy(d, refQ)"
   ]
  },
  {
   "cell_type": "markdown",
   "metadata": {},
   "source": [
    "### Parallel solver policy plot"
   ]
  },
  {
   "cell_type": "code",
   "execution_count": null,
   "metadata": {
    "collapsed": false,
    "scrolled": true
   },
   "outputs": [],
   "source": [
    "viz_pairwise_policy(d, solQ)"
   ]
  },
  {
   "cell_type": "code",
   "execution_count": null,
   "metadata": {
    "collapsed": true
   },
   "outputs": [],
   "source": []
  }
 ],
 "metadata": {
  "kernelspec": {
   "display_name": "Julia 0.3.11",
   "language": "julia",
   "name": "julia-0.3"
  },
  "language_info": {
   "name": "julia",
   "version": "0.3.11"
  }
 },
 "nbformat": 4,
 "nbformat_minor": 0
}
