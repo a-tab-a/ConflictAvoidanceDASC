{
 "cells": [
  {
   "cell_type": "markdown",
   "metadata": {},
   "source": [
    "## Load modules"
   ]
  },
  {
   "cell_type": "code",
   "execution_count": 1,
   "metadata": {
    "collapsed": false,
    "scrolled": true
   },
   "outputs": [
    {
     "data": {
      "text/plain": [
       "SCA(5446,36,StateIterator([-2000.0,-1600.0,-1200.0,-800.0,-400.0,0.0,400.0,800.0,1200.0,1600.0,2000.0],[-2000.0,-1600.0,-1200.0,-800.0,-400.0,0.0,400.0,800.0,1200.0,1600.0,2000.0],[0.0,1.5708,3.14159,4.71239,6.28319],[10.0,15.0,20.0],[10.0,15.0,20.0],1,1,1,1,1,5446),ActionIterator([:right20,:right10,:straight,:left10,:left20,:clearOfConflict],1,1,36),RectangleGrid with 5445 points)"
      ]
     },
     "execution_count": 1,
     "metadata": {},
     "output_type": "execute_result"
    }
   ],
   "source": [
    "push!(LOAD_PATH, \"./dvi/src\")\n",
    "\n",
    "addprocs(int(CPU_CORES / 2))\n",
    "\n",
    "using DiscreteValueIteration\n",
    "using SCAs, SCAIterators, SCAConst\n",
    "using GridInterpolations\n",
    "\n",
    "mdp = SCA()"
   ]
  },
  {
   "cell_type": "markdown",
   "metadata": {},
   "source": [
    "## Check size of MDP"
   ]
  },
  {
   "cell_type": "code",
   "execution_count": 2,
   "metadata": {
    "collapsed": false,
    "scrolled": true
   },
   "outputs": [
    {
     "name": "stdout",
     "output_type": "stream",
     "text": [
      "mdp of type SCA takes up 1.768 kB\n"
     ]
    }
   ],
   "source": [
    "function getBytes(x)\n",
    "   total = 0;\n",
    "   fieldNames = typeof(x).names;\n",
    "   if fieldNames == ()\n",
    "      return sizeof(x);\n",
    "   else\n",
    "     for fieldName in fieldNames\n",
    "        total += getBytes(getfield(x,fieldName));\n",
    "     end\n",
    "     return total;\n",
    "   end\n",
    "end\n",
    "\n",
    "println(\"mdp of type \", typeof(mdp), \" takes up \", getBytes(mdp) / 1000.0, \" kB\")"
   ]
  },
  {
   "cell_type": "markdown",
   "metadata": {},
   "source": [
    "## Informal validation of state and action iterators and transition function"
   ]
  },
  {
   "cell_type": "code",
   "execution_count": 3,
   "metadata": {
    "collapsed": false,
    "scrolled": false
   },
   "outputs": [
    {
     "name": "stdout",
     "output_type": "stream",
     "text": [
      "action #1: Action = Action(:right20,:right20)\n",
      "action #36: Action = Action(:clearOfConflict,:clearOfConflict)\n",
      "nActions = 36\n",
      "actionCount = 36\n",
      "\n",
      "state #1: State = State(-2000.0,-2000.0,0.0,10.0,10.0,false)\n",
      "state #5446: State = State(-2000.0,-2000.0,0.0,10.0,10.0,true)\n",
      "nStates = 5446\n",
      "stateCount = 5446\n"
     ]
    }
   ],
   "source": [
    "testActions = ActionIterator(Actions)\n",
    "actionCount = 0\n",
    "for action in testActions\n",
    "    actionCount += 1\n",
    "    if actionCount == 1 || actionCount == NActions\n",
    "        println(\"action #\", actionCount, \": \", typeof(action), \" = \", action)\n",
    "    end # if\n",
    "end # for action\n",
    "println(\"nActions = \", NActions)\n",
    "println(\"actionCount = \", actionCount, \"\\n\")\n",
    "\n",
    "testStates = StateIterator(Xs, Ys, Bearings, Speeds, Speeds)\n",
    "stateCount = 0\n",
    "for state in testStates\n",
    "    stateCount += 1\n",
    "    if stateCount == 1 || stateCount == NStates\n",
    "        println(\"state #\", stateCount, \": \", typeof(state), \" = \", state)\n",
    "    end # if\n",
    "end # for state\n",
    "println(\"nStates = \", NStates)\n",
    "println(\"stateCount = \", stateCount)"
   ]
  },
  {
   "cell_type": "code",
   "execution_count": 4,
   "metadata": {
    "collapsed": false,
    "scrolled": true
   },
   "outputs": [
    {
     "name": "stdout",
     "output_type": "stream",
     "text": [
      "next state indices:\n",
      "[1,1,2,5446,5446,1,2,1816,1817,5446,5446,5446,5446]\n",
      "\n",
      "probabilities:\n",
      "[0.3333333333333333,0.08125,0.0020833333333333355,0.08333333333333334,0.08333333333333334,0.04875,0.0012500000000000013,0.03250000000000001,0.0008333333333333341,0.08333333333333334,0.08333333333333334,0.08333333333333334,0.08333333333333334]\n",
      "probabilities sum to 1.0\n"
     ]
    }
   ],
   "source": [
    "nextStateIndices, probs = nextStates(mdp, 1, 15)\n",
    "println(\"next state indices:\\n\", nextStateIndices, \"\\n\")\n",
    "println(\"probabilities:\\n\", probs, \"\\n\")\n",
    "println(\"probabilities sum to \", sum(probs))"
   ]
  },
  {
   "cell_type": "markdown",
   "metadata": {},
   "source": [
    "## Parallel solution"
   ]
  },
  {
   "cell_type": "code",
   "execution_count": 5,
   "metadata": {
    "collapsed": false,
    "scrolled": true
   },
   "outputs": [
    {
     "data": {
      "text/plain": [
       "ParallelSolver(2,None[],1000,1.0e-6,false,true,true,true)"
      ]
     },
     "execution_count": 5,
     "metadata": {},
     "output_type": "execute_result"
    }
   ],
   "source": [
    "numProcs = int(CPU_CORES / 2)\n",
    "solver = ParallelSolver(\n",
    "    numProcs,\n",
    "    maxIterations = 1000,\n",
    "    tolerance = 1e-6,\n",
    "    gaussSiedel = false,\n",
    "    includeV = true,\n",
    "    includeQ = true,\n",
    "    includeA = true)"
   ]
  },
  {
   "cell_type": "code",
   "execution_count": 6,
   "metadata": {
    "collapsed": false,
    "scrolled": true
   },
   "outputs": [
    {
     "name": "stderr",
     "output_type": "stream",
     "text": [
      "Warning: imported binding for reward overwritten in module SCAs\n"
     ]
    },
    {
     "name": "stdout",
     "output_type": "stream",
     "text": [
      "Iter 1: resid = 1.020e+06, runtime = 1.258e+01, net runtime = 1.258e+01\n",
      "Iter 2: resid = 9.199e+05, runtime = 1.146e+01, net runtime = 2.404e+01\n",
      "Iter 3: resid = 6.774e+05, runtime = 1.152e+01, net runtime = 3.556e+01\n",
      "Iter 4: resid = 4.371e+05, runtime = 1.143e+01, net runtime = 4.699e+01\n",
      "Iter 5: resid = 2.453e+05, runtime = 1.148e+01, net runtime = 5.847e+01\n",
      "Iter 6: resid = 1.371e+05, runtime = 1.188e+01, net runtime = 7.034e+01\n",
      "Iter 7: resid = 7.716e+04, runtime = 1.151e+01, net runtime = 8.185e+01\n",
      "Iter 8: resid = 4.358e+04, runtime = 1.140e+01, net runtime = 9.325e+01\n",
      "Iter 9: resid = 2.436e+04, runtime = 1.148e+01, net runtime = 1.047e+02\n",
      "Iter 10: resid = 1.350e+04, runtime = 1.149e+01, net runtime = 1.162e+02\n",
      "Iter 11: resid = 7.425e+03, runtime = 1.150e+01, net runtime = 1.277e+02\n",
      "Iter 12: resid = 4.063e+03, runtime = 1.146e+01, net runtime = 1.392e+02\n",
      "Iter 13: resid = 2.214e+03, runtime = 1.154e+01, net runtime = 1.507e+02\n",
      "Iter 14: resid = 1.202e+03, runtime = 1.181e+01, net runtime = 1.625e+02\n",
      "Iter 15: resid = 6.498e+02, runtime = 1.172e+01, net runtime = 1.743e+02\n",
      "Iter 16: resid = 3.506e+02, runtime = 1.152e+01, net runtime = 1.858e+02\n",
      "Iter 17: resid = 1.888e+02, runtime = 1.143e+01, net runtime = 1.972e+02\n",
      "Iter 18: resid = 1.016e+02, runtime = 1.139e+01, net runtime = 2.086e+02\n",
      "Iter 19: resid = 5.466e+01, runtime = 1.215e+01, net runtime = 2.208e+02\n",
      "Iter 20: resid = 2.942e+01, runtime = 1.292e+01, net runtime = 2.337e+02\n",
      "Iter 21: resid = 1.585e+01, runtime = 1.287e+01, net runtime = 2.466e+02\n",
      "Iter 22: resid = 8.551e+00, runtime = 1.344e+01, net runtime = 2.600e+02\n",
      "Iter 23: resid = 4.625e+00, runtime = 1.318e+01, net runtime = 2.732e+02\n",
      "Iter 24: resid = 2.509e+00, runtime = 1.248e+01, net runtime = 2.857e+02\n",
      "Iter 25: resid = 1.367e+00, runtime = 1.279e+01, net runtime = 2.985e+02\n",
      "Iter 26: resid = 7.481e-01, runtime = 1.272e+01, net runtime = 3.112e+02\n",
      "Iter 27: resid = 4.120e-01, runtime = 1.273e+01, net runtime = 3.239e+02\n",
      "Iter 28: resid = 2.285e-01, runtime = 1.264e+01, net runtime = 3.365e+02\n",
      "Iter 29: resid = 1.278e-01, runtime = 1.279e+01, net runtime = 3.493e+02\n",
      "Iter 30: resid = 7.222e-02, runtime = 1.274e+01, net runtime = 3.621e+02\n",
      "Iter 31: resid = 4.127e-02, runtime = 1.261e+01, net runtime = 3.747e+02\n",
      "Iter 32: resid = 2.389e-02, runtime = 1.263e+01, net runtime = 3.873e+02\n",
      "Iter 33: resid = 1.403e-02, runtime = 1.320e+01, net runtime = 4.005e+02\n",
      "Iter 34: resid = 8.375e-03, runtime = 1.291e+01, net runtime = 4.134e+02\n",
      "Iter 35: resid = 5.085e-03, runtime = 1.271e+01, net runtime = 4.261e+02\n",
      "Iter 36: resid = 3.145e-03, runtime = 1.258e+01, net runtime = 4.387e+02\n",
      "Iter 37: resid = 1.983e-03, runtime = 1.270e+01, net runtime = 4.514e+02\n",
      "Iter 38: resid = 1.275e-03, runtime = 1.295e+01, net runtime = 4.644e+02\n",
      "Iter 39: resid = 8.362e-04, runtime = 1.282e+01, net runtime = 4.772e+02\n",
      "Iter 40: resid = 5.591e-04, runtime = 1.288e+01, net runtime = 4.901e+02\n",
      "Iter 41: resid = 3.808e-04, runtime = 1.248e+01, net runtime = 5.026e+02\n",
      "Iter 42: resid = 2.640e-04, runtime = 1.308e+01, net runtime = 5.156e+02\n",
      "Iter 43: resid = 1.860e-04, runtime = 1.254e+01, net runtime = 5.282e+02\n",
      "Iter 44: resid = 1.331e-04, runtime = 1.303e+01, net runtime = 5.412e+02\n",
      "Iter 45: resid = 9.647e-05, runtime = 1.296e+01, net runtime = 5.542e+02\n",
      "Iter 46: resid = 7.077e-05, runtime = 1.280e+01, net runtime = 5.670e+02\n",
      "Iter 47: resid = 5.245e-05, runtime = 1.289e+01, net runtime = 5.799e+02\n",
      "Iter 48: resid = 3.923e-05, runtime = 1.291e+01, net runtime = 5.928e+02\n",
      "Iter 49: resid = 2.956e-05, runtime = 1.322e+01, net runtime = 6.060e+02\n",
      "Iter 50: resid = 2.245e-05, runtime = 1.271e+01, net runtime = 6.187e+02\n",
      "Iter 51: resid = 1.715e-05, runtime = 1.292e+01, net runtime = 6.316e+02\n",
      "Iter 52: resid = 1.320e-05, runtime = 1.293e+01, net runtime = 6.445e+02\n",
      "Iter 53: resid = 1.031e-05, runtime = 1.544e+01, net runtime = 6.600e+02\n",
      "Iter 54: resid = 8.053e-06, runtime = 1.449e+01, net runtime = 6.745e+02\n",
      "Iter 55: resid = 6.289e-06, runtime = 1.405e+01, net runtime = 6.885e+02\n",
      "Iter 56: resid = 4.911e-06, runtime = 1.226e+01, net runtime = 7.008e+02\n",
      "Iter 57: resid = 3.834e-06, runtime = 1.154e+01, net runtime = 7.123e+02\n",
      "Iter 58: resid = 2.993e-06, runtime = 1.171e+01, net runtime = 7.240e+02\n",
      "Iter 59: resid = 2.337e-06, runtime = 1.166e+01, net runtime = 7.357e+02\n",
      "Iter 60: resid = 1.824e-06, runtime = 1.195e+01, net runtime = 7.476e+02\n",
      "Iter 61: resid = 1.424e-06, runtime = 1.155e+01, net runtime = 7.592e+02\n",
      "Iter 62: resid = 1.111e-06, runtime = 1.156e+01, net runtime = 7.707e+02\n",
      "Iter 63: resid = 8.669e-07, runtime = 1.160e+01, net runtime = 7.823e+02\n"
     ]
    },
    {
     "name": "stderr",
     "output_type": "stream",
     "text": [
      "Warning: imported binding for reward overwritten in module SCAs\n"
     ]
    },
    {
     "name": "stdout",
     "output_type": "stream",
     "text": [
      "\n"
     ]
    }
   ],
   "source": [
    "policy = solve(solver, mdp, verbose = true)\n",
    "println(\"\")"
   ]
  },
  {
   "cell_type": "markdown",
   "metadata": {},
   "source": [
    "## Check against reference solution by visual inspection"
   ]
  },
  {
   "cell_type": "code",
   "execution_count": null,
   "metadata": {
    "collapsed": false,
    "scrolled": true
   },
   "outputs": [
    {
     "data": {
      "text/html": [
       "<script charset=\"utf-8\">(function ($, undefined) {\n",
       "\n",
       "    function createElem(tag, attr, content) {\n",
       "\t// TODO: remove jQuery dependency\n",
       "\tvar el = $(\"<\" + tag + \"/>\").attr(attr);\n",
       "\tif (content) {\n",
       "\t    el.append(content);\n",
       "\t}\n",
       "\treturn el[0];\n",
       "    }\n",
       "\n",
       "    // A widget must expose an id field which identifies it to the backend,\n",
       "    // an elem attribute which is will be added to the DOM, and\n",
       "    // a getState() method which returns the value to be sent to the backend\n",
       "    // a sendUpdate() method which sends its current value to the backend\n",
       "    var Widget = {\n",
       "\tid: undefined,\n",
       "\telem: undefined,\n",
       "\tlabel: undefined,\n",
       "\tgetState: function () {\n",
       "\t    return this.elem.value;\n",
       "\t},\n",
       "\tsendUpdate: undefined\n",
       "    };\n",
       "\n",
       "    var Slider = function (typ, id, init) {\n",
       "\tvar attr = { type:  \"range\",\n",
       "\t\t     value: init.value,\n",
       "\t\t     min:   init.min,\n",
       "\t\t     max:   init.max,\n",
       "\t\t     step:  init.step },\n",
       "\t    elem = createElem(\"input\", attr),\n",
       "\t    self = this;\n",
       "\n",
       "\telem.onchange = function () {\n",
       "\t    self.sendUpdate();\n",
       "\t}\n",
       "\n",
       "\tthis.id = id;\n",
       "\tthis.elem = elem;\n",
       "\tthis.label = init.label;\n",
       "\n",
       "\tInputWidgets.commInitializer(this); // Initialize communication\n",
       "    }\n",
       "    Slider.prototype = Widget;\n",
       "\n",
       "    var Checkbox = function (typ, id, init) {\n",
       "\tvar attr = { type: \"checkbox\",\n",
       "\t\t     checked: init.value },\n",
       "\t    elem = createElem(\"input\", attr),\n",
       "\t    self = this;\n",
       "\n",
       "\tthis.getState = function () {\n",
       "\t    return elem.checked;\n",
       "\t}\n",
       "\telem.onchange = function () {\n",
       "\t    self.sendUpdate();\n",
       "\t}\n",
       "\n",
       "\tthis.id = id;\n",
       "\tthis.elem = elem;\n",
       "\tthis.label = init.label;\n",
       "\n",
       "\tInputWidgets.commInitializer(this);\n",
       "    }\n",
       "    Checkbox.prototype = Widget;\n",
       "\n",
       "    var Button = function (typ, id, init) {\n",
       "\tvar attr = { type:    \"button\",\n",
       "\t\t     value:   init.label },\n",
       "\t    elem = createElem(\"input\", attr),\n",
       "\t    self = this;\n",
       "\tthis.getState = function () {\n",
       "\t    return null;\n",
       "\t}\n",
       "\telem.onclick = function () {\n",
       "\t    self.sendUpdate();\n",
       "\t}\n",
       "\n",
       "\tthis.id = id;\n",
       "\tthis.elem = elem;\n",
       "\tthis.label = init.label;\n",
       "\n",
       "\tInputWidgets.commInitializer(this);\n",
       "    }\n",
       "    Button.prototype = Widget;\n",
       "\n",
       "    var Text = function (typ, id, init) {\n",
       "\tvar attr = { type:  \"text\",\n",
       "\t\t     placeholder: init.label,\n",
       "\t\t     value: init.value },\n",
       "\t    elem = createElem(\"input\", attr),\n",
       "\t    self = this;\n",
       "\tthis.getState = function () {\n",
       "\t    return elem.value;\n",
       "\t}\n",
       "\telem.onkeyup = function () {\n",
       "\t    self.sendUpdate();\n",
       "\t}\n",
       "\n",
       "\tthis.id = id;\n",
       "\tthis.elem = elem;\n",
       "\tthis.label = init.label;\n",
       "\n",
       "\tInputWidgets.commInitializer(this);\n",
       "    }\n",
       "    Text.prototype = Widget;\n",
       "\n",
       "    var Textarea = function (typ, id, init) {\n",
       "\tvar attr = { placeholder: init.label },\n",
       "\t    elem = createElem(\"textarea\", attr, init.value),\n",
       "\t    self = this;\n",
       "\tthis.getState = function () {\n",
       "\t    return elem.value;\n",
       "\t}\n",
       "\telem.onchange = function () {\n",
       "\t    self.sendUpdate();\n",
       "\t}\n",
       "\n",
       "\tthis.id = id;\n",
       "\tthis.elem = elem;\n",
       "\tthis.label = init.label;\n",
       "\n",
       "\tInputWidgets.commInitializer(this);\n",
       "    }\n",
       "    Textarea.prototype = Widget;\n",
       "\n",
       "    // RadioButtons\n",
       "    // Dropdown\n",
       "    // HTML\n",
       "    // Latex\n",
       "\n",
       "    var InputWidgets = {\n",
       "\tSlider: Slider,\n",
       "\tCheckbox: Checkbox,\n",
       "\tButton: Button,\n",
       "\tText: Text,\n",
       "\tTextarea: Textarea,\n",
       "\tdebug: false,\n",
       "\tlog: function () {\n",
       "\t    if (InputWidgets.debug) {\n",
       "\t\tconsole.log.apply(console, arguments);\n",
       "\t    }\n",
       "\t},\n",
       "\t// a central way to initalize communication\n",
       "\t// for widgets.\n",
       "\tcommInitializer: function (widget) {\n",
       "\t    widget.sendUpdate = function () {};\n",
       "\t}\n",
       "    };\n",
       "\n",
       "    window.InputWidgets = InputWidgets;\n",
       "\n",
       "})(jQuery, undefined);\n",
       "</script>"
      ]
     },
     "metadata": {},
     "output_type": "display_data"
    },
    {
     "data": {
      "text/html": [
       "<script charset=\"utf-8\">(function (IPython, $, _, MathJax, Widgets) {\n",
       "    $.event.special.destroyed = {\n",
       "\tremove: function(o) {\n",
       "\t    if (o.handler) {\n",
       "\t\to.handler.apply(this, arguments)\n",
       "\t    }\n",
       "\t}\n",
       "    }\n",
       "\n",
       "    var redrawValue = function (container, type, val) {\n",
       "\tvar selector = $(\"<div/>\");\n",
       "\tvar oa = new IPython.OutputArea(_.extend(selector, {\n",
       "\t    selector: selector,\n",
       "\t    prompt_area: true,\n",
       "\t    events: IPython.events,\n",
       "\t    keyboard_manager: IPython.keyboard_manager\n",
       "\t})); // Hack to work with IPython 2.1.0\n",
       "\n",
       "\tswitch (type) {\n",
       "\tcase \"image/png\":\n",
       "            var _src = 'data:' + type + ';base64,' + val;\n",
       "\t    $(container).find(\"img\").attr('src', _src);\n",
       "\t    break;\n",
       "\tdefault:\n",
       "\t    var toinsert = IPython.OutputArea.append_map[type].apply(\n",
       "\t\toa, [val, {}, selector]\n",
       "\t    );\n",
       "\t    $(container).empty().append(toinsert.contents());\n",
       "\t    selector.remove();\n",
       "\t}\n",
       "\tif (type === \"text/latex\" && MathJax) {\n",
       "\t    MathJax.Hub.Queue([\"Typeset\", MathJax.Hub, toinsert.get(0)]);\n",
       "\t}\n",
       "    }\n",
       "\n",
       "\n",
       "    $(document).ready(function() {\n",
       "\tWidgets.debug = false; // log messages etc in console.\n",
       "\tfunction initComm(evt, data) {\n",
       "\t    var comm_manager = data.kernel.comm_manager;\n",
       "        //_.extend(comm_manager.targets, require(\"widgets/js/widget\"))\n",
       "\t    comm_manager.register_target(\"Signal\", function (comm) {\n",
       "            comm.on_msg(function (msg) {\n",
       "                //Widgets.log(\"message received\", msg);\n",
       "                var val = msg.content.data.value;\n",
       "                $(\".signal-\" + comm.comm_id).each(function() {\n",
       "                var type = $(this).data(\"type\");\n",
       "                if (val[type]) {\n",
       "                    redrawValue(this, type, val[type], type);\n",
       "                }\n",
       "                });\n",
       "                delete val;\n",
       "                delete msg.content.data.value;\n",
       "            });\n",
       "\t    });\n",
       "\n",
       "\t    // coordingate with Comm and redraw Signals\n",
       "\t    // XXX: Test using Reactive here to improve performance\n",
       "\t    $([IPython.events]).on(\n",
       "\t\t'output_appended.OutputArea', function (event, type, value, md, toinsert) {\n",
       "\t\t    if (md && md.reactive) {\n",
       "                // console.log(md.comm_id);\n",
       "                toinsert.addClass(\"signal-\" + md.comm_id);\n",
       "                toinsert.data(\"type\", type);\n",
       "                // Signal back indicating the mimetype required\n",
       "                var comm_manager = IPython.notebook.kernel.comm_manager;\n",
       "                var comm = comm_manager.comms[md.comm_id];\n",
       "                comm.then(function (c) {\n",
       "                    c.send({action: \"subscribe_mime\",\n",
       "                       mime: type});\n",
       "                    toinsert.bind(\"destroyed\", function() {\n",
       "                        c.send({action: \"unsubscribe_mime\",\n",
       "                               mime: type});\n",
       "                    });\n",
       "                })\n",
       "\t\t    }\n",
       "\t    });\n",
       "\t}\n",
       "\n",
       "\ttry {\n",
       "\t    // try to initialize right away. otherwise, wait on the status_started event.\n",
       "\t    initComm(undefined, IPython.notebook);\n",
       "\t} catch (e) {\n",
       "\t    $([IPython.events]).on('status_started.Kernel', initComm);\n",
       "\t}\n",
       "    });\n",
       "})(IPython, jQuery, _, MathJax, InputWidgets);\n",
       "</script>"
      ]
     },
     "metadata": {},
     "output_type": "display_data"
    }
   ],
   "source": [
    "push!(LOAD_PATH, \"../src/\")\n",
    "using Pairwise, Multiagent, HDF5, JLD\n",
    "\n",
    "d = get_pomdp()\n",
    "refQ = load(\"../data/alpha.jld\", \"alpha\")\n",
    "solQ = policy.Q'\n",
    "save(\"../data/par-alpha.jld\", \"solQ\", solQ)"
   ]
  },
  {
   "cell_type": "markdown",
   "metadata": {},
   "source": [
    "### Reference policy plot"
   ]
  },
  {
   "cell_type": "code",
   "execution_count": null,
   "metadata": {
    "collapsed": false,
    "scrolled": true
   },
   "outputs": [],
   "source": [
    "viz_pairwise_policy(d, refQ)"
   ]
  },
  {
   "cell_type": "markdown",
   "metadata": {},
   "source": [
    "### Parallel solver policy plot"
   ]
  },
  {
   "cell_type": "code",
   "execution_count": null,
   "metadata": {
    "collapsed": false,
    "scrolled": true
   },
   "outputs": [],
   "source": [
    "function sharray2array(sharray::SharedArray{Float64, 2})\n",
    "    result = zeros(solQ.dims)\n",
    "    for i = 1:solQ.dims[1]\n",
    "        for j = 1:solQ.dims[2]\n",
    "            result[i, j] = sharray[i, j]\n",
    "        end # for j\n",
    "    end # for i\n",
    "    return result\n",
    "end # function sharray2array"
   ]
  },
  {
   "cell_type": "code",
   "execution_count": null,
   "metadata": {
    "collapsed": false,
    "scrolled": true
   },
   "outputs": [],
   "source": [
    "viz_pairwise_policy(d, sharray2array(solQ))"
   ]
  }
 ],
 "metadata": {
  "kernelspec": {
   "display_name": "Julia 0.3.11",
   "language": "julia",
   "name": "julia-0.3"
  },
  "language_info": {
   "name": "julia",
   "version": "0.3.11"
  }
 },
 "nbformat": 4,
 "nbformat_minor": 0
}
