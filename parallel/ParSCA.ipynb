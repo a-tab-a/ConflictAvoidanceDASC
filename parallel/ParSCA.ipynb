{
 "cells": [
  {
   "cell_type": "markdown",
   "metadata": {},
   "source": [
    "## Load modules"
   ]
  },
  {
   "cell_type": "code",
   "execution_count": null,
   "metadata": {
    "collapsed": false
   },
   "outputs": [],
   "source": [
    "addprocs(int(CPU_CORES / 2))\n",
    "\n",
    "using DiscreteValueIteration\n",
    "using SCAs, SCAIterators, SCAConst\n",
    "using GridInterpolations\n",
    "\n",
    "mdp = SCA()"
   ]
  },
  {
   "cell_type": "markdown",
   "metadata": {},
   "source": [
    "## Check size of MDP"
   ]
  },
  {
   "cell_type": "code",
   "execution_count": null,
   "metadata": {
    "collapsed": false
   },
   "outputs": [],
   "source": [
    "function getBytes(x)\n",
    "   total = 0;\n",
    "   fieldNames = typeof(x).names;\n",
    "   if fieldNames == ()\n",
    "      return sizeof(x);\n",
    "   else\n",
    "     for fieldName in fieldNames\n",
    "        total += getBytes(getfield(x,fieldName));\n",
    "     end\n",
    "     return total;\n",
    "   end\n",
    "end\n",
    "\n",
    "println(typeof(mdp), \" takes up \", getBytes(mdp) / 1000.0, \" kB\")"
   ]
  },
  {
   "cell_type": "markdown",
   "metadata": {},
   "source": [
    "## Informal validation of state and action iterators and transition function"
   ]
  },
  {
   "cell_type": "code",
   "execution_count": null,
   "metadata": {
    "collapsed": false,
    "scrolled": true
   },
   "outputs": [],
   "source": [
    "testActions = ActionIterator(Actions)\n",
    "actionCount = 0\n",
    "for action in testActions\n",
    "    actionCount += 1\n",
    "    println(\"action #\", actionCount, \": \", typeof(action), \" = \", action)\n",
    "end # for action\n",
    "println(\"nActions = \", NActions)\n",
    "println(\"actionCount = \", actionCount)\n",
    "\n",
    "testStates = StateIterator(Xs, Ys, Bearings, Speeds, Speeds)\n",
    "stateCount = 0\n",
    "for state in testStates\n",
    "    stateCount += 1\n",
    "    if stateCount == 1 || stateCount == NStates\n",
    "        println(\"state #\", stateCount, \": \", typeof(state), \" = \", state)\n",
    "    end # if\n",
    "end # for state\n",
    "println(\"nStates = \", NStates)\n",
    "println(\"stateCount = \", stateCount)"
   ]
  },
  {
   "cell_type": "code",
   "execution_count": null,
   "metadata": {
    "collapsed": false
   },
   "outputs": [],
   "source": [
    "newStates, probs = nextStates(mdp, State(1.0,1.0,1.0,10.0,10.0,false), Action(:straight, :straight))"
   ]
  },
  {
   "cell_type": "markdown",
   "metadata": {
    "collapsed": true
   },
   "source": [
    "## Serial solution"
   ]
  },
  {
   "cell_type": "code",
   "execution_count": null,
   "metadata": {
    "collapsed": false
   },
   "outputs": [],
   "source": [
    "maxIterations = 100\n",
    "tolerance = 1e-3\n",
    "gs = true\n",
    "includeV = true\n",
    "includeQ = true\n",
    "includeA = false\n",
    "solver = SerialSolver(\n",
    "    maxIterations = maxIterations,\n",
    "    tolerance = tolerance,\n",
    "    gaussSiedel = gs,\n",
    "    includeV = includeV,\n",
    "    includeQ = includeQ,\n",
    "    includeA = includeA)"
   ]
  },
  {
   "cell_type": "code",
   "execution_count": null,
   "metadata": {
    "collapsed": false
   },
   "outputs": [],
   "source": [
    "policy = solve(solver, mdp, verbose = true)"
   ]
  },
  {
   "cell_type": "markdown",
   "metadata": {},
   "source": [
    "## Parallel solution"
   ]
  },
  {
   "cell_type": "code",
   "execution_count": null,
   "metadata": {
    "collapsed": false
   },
   "outputs": [],
   "source": [
    "numProcs = int(CPU_CORES / 2)\n",
    "stateOrder = {1:int64(floor(NStates / 2)), int64(floor(NStates / 2)) + 1:NStates}\n",
    "solver = ParallelSolver(\n",
    "    numProcs,\n",
    "    stateOrder = stateOrder,\n",
    "    maxIterations = maxIterations,\n",
    "    tolerance = tolerance,\n",
    "    gaussSiedel = gs,\n",
    "    includeV = includeV,\n",
    "    includeQ = includeQ,\n",
    "    includeA = includeA)"
   ]
  },
  {
   "cell_type": "code",
   "execution_count": null,
   "metadata": {
    "collapsed": false
   },
   "outputs": [],
   "source": [
    "policy = solve(solver, mdp, verbose = true)"
   ]
  },
  {
   "cell_type": "code",
   "execution_count": null,
   "metadata": {
    "collapsed": true
   },
   "outputs": [],
   "source": []
  }
 ],
 "metadata": {
  "kernelspec": {
   "display_name": "Julia 0.3.11",
   "language": "julia",
   "name": "julia-0.3"
  },
  "language_info": {
   "name": "julia",
   "version": "0.3.11"
  }
 },
 "nbformat": 4,
 "nbformat_minor": 0
}
