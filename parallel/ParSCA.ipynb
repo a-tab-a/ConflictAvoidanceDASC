{
 "cells": [
  {
   "cell_type": "markdown",
   "metadata": {},
   "source": [
    "## Load modules"
   ]
  },
  {
   "cell_type": "code",
   "execution_count": 1,
   "metadata": {
    "collapsed": false,
    "scrolled": true
   },
   "outputs": [
    {
     "data": {
      "text/plain": [
       "SCA(5446,36,StateIterator([-2000.0,-1600.0,-1200.0,-800.0,-400.0,0.0,400.0,800.0,1200.0,1600.0,2000.0],[-2000.0,-1600.0,-1200.0,-800.0,-400.0,0.0,400.0,800.0,1200.0,1600.0,2000.0],[0.0,1.5708,3.14159,4.71239,6.28319],[10.0,15.0,20.0],[10.0,15.0,20.0],1,1,1,1,1,5446),ActionIterator([:right20,:right10,:straight,:left10,:left20,:clearOfConflict],1,1,36),RectangleGrid with 5445 points)"
      ]
     },
     "execution_count": 1,
     "metadata": {},
     "output_type": "execute_result"
    }
   ],
   "source": [
    "push!(LOAD_PATH, \"./dvi/src\")\n",
    "\n",
    "addprocs(int(CPU_CORES / 2))\n",
    "\n",
    "using DiscreteValueIteration\n",
    "using SCAs, SCAIterators, SCAConst\n",
    "using GridInterpolations\n",
    "\n",
    "mdp = SCA()"
   ]
  },
  {
   "cell_type": "markdown",
   "metadata": {},
   "source": [
    "## Check size of MDP"
   ]
  },
  {
   "cell_type": "code",
   "execution_count": 2,
   "metadata": {
    "collapsed": false,
    "scrolled": true
   },
   "outputs": [
    {
     "name": "stdout",
     "output_type": "stream",
     "text": [
      "mdp of type SCA takes up 1.768 kB\n"
     ]
    }
   ],
   "source": [
    "function getBytes(x)\n",
    "   total = 0;\n",
    "   fieldNames = typeof(x).names;\n",
    "   if fieldNames == ()\n",
    "      return sizeof(x);\n",
    "   else\n",
    "     for fieldName in fieldNames\n",
    "        total += getBytes(getfield(x,fieldName));\n",
    "     end\n",
    "     return total;\n",
    "   end\n",
    "end\n",
    "\n",
    "println(\"mdp of type \", typeof(mdp), \" takes up \", getBytes(mdp) / 1000.0, \" kB\")"
   ]
  },
  {
   "cell_type": "markdown",
   "metadata": {},
   "source": [
    "## Informal validation of state and action iterators and transition function"
   ]
  },
  {
   "cell_type": "code",
   "execution_count": 3,
   "metadata": {
    "collapsed": false,
    "scrolled": false
   },
   "outputs": [
    {
     "name": "stdout",
     "output_type": "stream",
     "text": [
      "action #1: Action = Action(:right20,:right20)\n",
      "action #2: Action = Action(:right10,:right20)\n",
      "action #3: Action = Action(:straight,:right20)\n",
      "action #4: Action = Action(:left10,:right20)\n",
      "action #5: Action = Action(:left20,:right20)\n",
      "action #6: Action = Action(:clearOfConflict,:right20)\n",
      "action #7: Action = Action(:right20,:right10)\n",
      "action #8: Action = Action(:right10,:right10)\n",
      "action #9: Action = Action(:straight,:right10)\n",
      "action #10: Action = Action(:left10,:right10)\n",
      "action #11: Action = Action(:left20,:right10)\n",
      "action #12: Action = Action(:clearOfConflict,:right10)\n",
      "action #13: Action = Action(:right20,:straight)\n",
      "action #14: Action = Action(:right10,:straight)\n",
      "action #15: Action = Action(:straight,:straight)\n",
      "action #16: Action = Action(:left10,:straight)\n",
      "action #17: Action = Action(:left20,:straight)\n",
      "action #18: Action = Action(:clearOfConflict,:straight)\n",
      "action #19: Action = Action(:right20,:left10)\n",
      "action #20: Action = Action(:right10,:left10)\n",
      "action #21: Action = Action(:straight,:left10)\n",
      "action #22: Action = Action(:left10,:left10)\n",
      "action #23: Action = Action(:left20,:left10)\n",
      "action #24: Action = Action(:clearOfConflict,:left10)\n",
      "action #25: Action = Action(:right20,:left20)\n",
      "action #26: Action = Action(:right10,:left20)\n",
      "action #27: Action = Action(:straight,:left20)\n",
      "action #28: Action = Action(:left10,:left20)\n",
      "action #29: Action = Action(:left20,:left20)\n",
      "action #30: Action = Action(:clearOfConflict,:left20)\n",
      "action #31: Action = Action(:right20,:clearOfConflict)\n",
      "action #32: Action = Action(:right10,:clearOfConflict)\n",
      "action #33: Action = Action(:straight,:clearOfConflict)\n",
      "action #34: Action = Action(:left10,:clearOfConflict)\n",
      "action #35: Action = Action(:left20,:clearOfConflict)\n",
      "action #36: Action = Action(:clearOfConflict,:clearOfConflict)\n",
      "nActions = 36\n",
      "actionCount = 36\n",
      "\n",
      "state #1: State = State(-2000.0,-2000.0,0.0,10.0,10.0,false)\n",
      "state #5446: State = State(-2000.0,-2000.0,0.0,10.0,10.0,true)\n",
      "nStates = 5446\n",
      "stateCount = 5446\n"
     ]
    }
   ],
   "source": [
    "testActions = ActionIterator(Actions)\n",
    "actionCount = 0\n",
    "for action in testActions\n",
    "    actionCount += 1\n",
    "    println(\"action #\", actionCount, \": \", typeof(action), \" = \", action)\n",
    "end # for action\n",
    "println(\"nActions = \", NActions)\n",
    "println(\"actionCount = \", actionCount, \"\\n\")\n",
    "\n",
    "testStates = StateIterator(Xs, Ys, Bearings, Speeds, Speeds)\n",
    "stateCount = 0\n",
    "for state in testStates\n",
    "    stateCount += 1\n",
    "    if stateCount == 1 || stateCount == NStates\n",
    "        println(\"state #\", stateCount, \": \", typeof(state), \" = \", state)\n",
    "    end # if\n",
    "end # for state\n",
    "println(\"nStates = \", NStates)\n",
    "println(\"stateCount = \", stateCount)"
   ]
  },
  {
   "cell_type": "code",
   "execution_count": 5,
   "metadata": {
    "collapsed": false,
    "scrolled": true
   },
   "outputs": [
    {
     "name": "stdout",
     "output_type": "stream",
     "text": [
      "next state indices:\n",
      "[1,1,2,5446,5446,1,2,1816,1817,5446,5446,5446,5446]\n",
      "\n",
      "probabilities:\n",
      "[0.3333333333333333,0.08125,0.0020833333333333355,0.08333333333333334,0.08333333333333334,0.04875,0.0012500000000000013,0.03250000000000001,0.0008333333333333341,0.08333333333333334,0.08333333333333334,0.08333333333333334,0.08333333333333334]\n"
     ]
    }
   ],
   "source": [
    "nextStateIndices, probs = nextStates(mdp, 1, 15)\n",
    "println(\"next state indices:\\n\", nextStateIndices, \"\\n\")\n",
    "println(\"probabilities:\\n\", probs)"
   ]
  },
  {
   "cell_type": "markdown",
   "metadata": {},
   "source": [
    "## Parallel solution"
   ]
  },
  {
   "cell_type": "code",
   "execution_count": 6,
   "metadata": {
    "collapsed": false,
    "scrolled": true
   },
   "outputs": [
    {
     "data": {
      "text/plain": [
       "ParallelSolver(2,None[],1000,1.0e-6,false,true,true,true)"
      ]
     },
     "execution_count": 6,
     "metadata": {},
     "output_type": "execute_result"
    }
   ],
   "source": [
    "numProcs = int(CPU_CORES / 2)\n",
    "solver = ParallelSolver(\n",
    "    numProcs,\n",
    "    maxIterations = 1000,\n",
    "    tolerance = 1e-6,\n",
    "    gaussSiedel = false,\n",
    "    includeV = true,\n",
    "    includeQ = true,\n",
    "    includeA = true)"
   ]
  },
  {
   "cell_type": "code",
   "execution_count": null,
   "metadata": {
    "collapsed": false,
    "scrolled": true
   },
   "outputs": [
    {
     "name": "stderr",
     "output_type": "stream",
     "text": [
      "Warning: imported binding for reward overwritten in module SCAs\n"
     ]
    }
   ],
   "source": [
    "policy = solve(solver, mdp, verbose = true)\n",
    "println(\"\")"
   ]
  },
  {
   "cell_type": "markdown",
   "metadata": {},
   "source": [
    "## Check against reference solution by visual inspection"
   ]
  },
  {
   "cell_type": "code",
   "execution_count": null,
   "metadata": {
    "collapsed": false,
    "scrolled": true
   },
   "outputs": [],
   "source": [
    "push!(LOAD_PATH, \"../src/\")\n",
    "using Pairwise, Multiagent, HDF5, JLD\n",
    "\n",
    "d = get_pomdp()\n",
    "refQ = load(\"../data/alpha.jld\", \"alpha\")\n",
    "solQ = policy.Q'\n",
    "save(\"../data/par-alpha.jld\", \"solQ\", solQ)"
   ]
  },
  {
   "cell_type": "markdown",
   "metadata": {},
   "source": [
    "### Reference policy plot"
   ]
  },
  {
   "cell_type": "code",
   "execution_count": null,
   "metadata": {
    "collapsed": false,
    "scrolled": true
   },
   "outputs": [],
   "source": [
    "viz_pairwise_policy(d, refQ)"
   ]
  },
  {
   "cell_type": "markdown",
   "metadata": {},
   "source": [
    "### Parallel solver policy plot\n",
    "\n",
    "Note: We haven't implemented sigma-sampling."
   ]
  },
  {
   "cell_type": "code",
   "execution_count": null,
   "metadata": {
    "collapsed": false,
    "scrolled": true
   },
   "outputs": [],
   "source": [
    "function sharray2array(sharray::SharedArray{Float64, 2})\n",
    "    result = zeros(solQ.dims)\n",
    "    for i = 1:solQ.dims[1]\n",
    "        for j = 1:solQ.dims[2]\n",
    "            result[i, j] = sharray[i, j]\n",
    "        end # for j\n",
    "    end # for i\n",
    "    return result\n",
    "end # function sharray2array"
   ]
  },
  {
   "cell_type": "code",
   "execution_count": null,
   "metadata": {
    "collapsed": false,
    "scrolled": true
   },
   "outputs": [],
   "source": [
    "viz_pairwise_policy(d, sharray2array(solQ))"
   ]
  }
 ],
 "metadata": {
  "kernelspec": {
   "display_name": "Julia 0.3.11",
   "language": "julia",
   "name": "julia-0.3"
  },
  "language_info": {
   "name": "julia",
   "version": "0.3.11"
  }
 },
 "nbformat": 4,
 "nbformat_minor": 0
}
